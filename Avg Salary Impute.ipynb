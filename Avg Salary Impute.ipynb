{
 "cells": [
  {
   "cell_type": "code",
   "execution_count": 32,
   "id": "54e27aa9",
   "metadata": {},
   "outputs": [
    {
     "name": "stdout",
     "output_type": "stream",
     "text": [
      "+------+--------+------+----------+\n",
      "|emp_id|emp_name|salary|department|\n",
      "+------+--------+------+----------+\n",
      "|     1|       A|  null|         X|\n",
      "|     2|       B|   200|         Y|\n",
      "|     3|       C|   300|         Z|\n",
      "|     4|       D|  null|         Y|\n",
      "|     5|       E|    50|         Z|\n",
      "+------+--------+------+----------+\n",
      "\n",
      "Row(avg_salary=110.0)\n",
      "+------+--------+------+----------+\n",
      "|emp_id|emp_name|salary|department|\n",
      "+------+--------+------+----------+\n",
      "|     1|       A| 110.0|         X|\n",
      "|     2|       B| 200.0|         Y|\n",
      "|     3|       C| 300.0|         Z|\n",
      "|     4|       D| 110.0|         Y|\n",
      "|     5|       E|  50.0|         Z|\n",
      "+------+--------+------+----------+\n",
      "\n"
     ]
    }
   ],
   "source": [
    "import os\n",
    "import sys\n",
    "from pyspark.sql import SparkSession\n",
    "from pyspark.sql.functions import avg, coalesce, col, lit\n",
    "\n",
    "os.environ['PYSPARK_PYTHON'] = sys.executable\n",
    "os.environ['PYSPARK_DRIVER_PYTHON'] = sys.executable\n",
    "\n",
    "spark = SparkSession.builder.master('local[*]').getOrCreate()\n",
    "\n",
    "class Emp:\n",
    "    def createData(self):\n",
    "        data = [\n",
    "            ('1', 'A', None, 'X'),\n",
    "            ('2', 'B', 200, 'Y'),\n",
    "            ('3', 'C', 300, 'Z'),\n",
    "            ('4', 'D', None, 'Y'),\n",
    "            ('5', 'E', 50, 'Z')\n",
    "        ]\n",
    "        columns = ['emp_id', 'emp_name', 'salary', 'department']\n",
    "        return spark.createDataFrame(data, columns)\n",
    "\n",
    "    def avg_salary_sql(self, input_df):\n",
    "        input_df.createOrReplaceTempView('emp')\n",
    "        avg_salary_df = spark.sql(\"\"\"\n",
    "                SELECT distinct AVG(COALESCE(salary, 0)) AS avg_salary\n",
    "                FROM emp\"\"\"\n",
    "            )\n",
    "        \n",
    "        avg_salary = avg_salary_df.collect()[0]['avg_salary']\n",
    "        output_df = spark.sql(f\"\"\"\n",
    "            SELECT emp_id, emp_name, \n",
    "                   COALESCE(salary, {avg_salary}) AS salary, \n",
    "                   department\n",
    "            FROM emp\n",
    "        \"\"\") \n",
    "            \n",
    "        return output_df\n",
    "    \n",
    "    def fill_missing_salary(self, input_df):\n",
    "        # Calculate the average salary excluding None values\n",
    "        avg_salary_df = input_df.select(avg(coalesce(col('salary'),lit(0))).alias('avg_salary'))\n",
    "        avg_salary_row = avg_salary_df.collect()[0]\n",
    "        avg_salary = avg_salary_row['avg_salary']\n",
    "        output_df = input_df.withColumn('salary', coalesce(col('salary'), lit(avg_salary)))\n",
    "        return output_df\n",
    "\n",
    "obj = Emp()\n",
    "input_df = obj.createData()\n",
    "input_df.show()\n",
    "output = obj.avg_salary_sql(input_df)\n",
    "output.show()\n",
    "output = obj.fill_missing_salary(input_df)\n",
    "output.show()"
   ]
  },
  {
   "cell_type": "code",
   "execution_count": null,
   "id": "26751788",
   "metadata": {},
   "outputs": [],
   "source": []
  },
  {
   "cell_type": "code",
   "execution_count": null,
   "id": "7a0e15f1",
   "metadata": {},
   "outputs": [],
   "source": []
  },
  {
   "cell_type": "code",
   "execution_count": null,
   "id": "7efb2c0b",
   "metadata": {},
   "outputs": [],
   "source": []
  }
 ],
 "metadata": {
  "kernelspec": {
   "display_name": "pyspark-env",
   "language": "python",
   "name": "pyspark-env"
  },
  "language_info": {
   "codemirror_mode": {
    "name": "ipython",
    "version": 3
   },
   "file_extension": ".py",
   "mimetype": "text/x-python",
   "name": "python",
   "nbconvert_exporter": "python",
   "pygments_lexer": "ipython3",
   "version": "3.11.5"
  }
 },
 "nbformat": 4,
 "nbformat_minor": 5
}
